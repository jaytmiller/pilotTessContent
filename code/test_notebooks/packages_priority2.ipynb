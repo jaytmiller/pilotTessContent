{
 "cells": [
  {
   "cell_type": "markdown",
   "metadata": {},
   "source": [
    "# Priority 2 packages for TIKE\n",
    "Tests the install for the following\n",
    "- pyriod\n",
    "- pyVO\n",
    "- george\n",
    "- celerite\n",
    "- k2flix\n",
    "- emcee\n",
    "- radvel\n",
    "- everest-package\n",
    "- reproject\n",
    "- tqdm\n",
    "- astroML\n",
    "\n",
    "### For Priority 3\n",
    "- keras\n",
    "- tensorflow\n",
    "- pytorch\n",
    "- exoplanet\n",
    "- allesfitter\n",
    "- jax\n",
    "- starry (theano is tricky)\n",
    "- astrobase\n",
    "- tvguide"
   ]
  },
  {
   "cell_type": "code",
   "execution_count": 18,
   "metadata": {},
   "outputs": [
    {
     "ename": "ModuleNotFoundError",
     "evalue": "No module named 'keras'",
     "output_type": "error",
     "traceback": [
      "\u001b[0;31m---------------------------------------------------------------------------\u001b[0m",
      "\u001b[0;31mModuleNotFoundError\u001b[0m                       Traceback (most recent call last)",
      "\u001b[0;32m<ipython-input-18-4d92c4077df0>\u001b[0m in \u001b[0;36m<module>\u001b[0;34m\u001b[0m\n\u001b[1;32m     11\u001b[0m \u001b[0;32mimport\u001b[0m \u001b[0memcee\u001b[0m\u001b[0;34m\u001b[0m\u001b[0;34m\u001b[0m\u001b[0m\n\u001b[1;32m     12\u001b[0m \u001b[0;32mimport\u001b[0m \u001b[0mastroML\u001b[0m\u001b[0;34m\u001b[0m\u001b[0;34m\u001b[0m\u001b[0m\n\u001b[0;32m---> 13\u001b[0;31m \u001b[0;32mimport\u001b[0m \u001b[0mkeras\u001b[0m\u001b[0;34m\u001b[0m\u001b[0;34m\u001b[0m\u001b[0m\n\u001b[0m",
      "\u001b[0;31mModuleNotFoundError\u001b[0m: No module named 'keras'"
     ]
    }
   ],
   "source": [
    "import Pyriod\n",
    "import pyvo as vo\n",
    "import tqdm\n",
    "import george\n",
    "import celerite\n",
    "import k2flix\n",
    "import emcee\n",
    "import radvel\n",
    "import everest\n",
    "import reproject\n",
    "import emcee\n",
    "import astroML\n",
    "import keras"
   ]
  },
  {
   "cell_type": "code",
   "execution_count": null,
   "metadata": {},
   "outputs": [],
   "source": []
  }
 ],
 "metadata": {
  "kernelspec": {
   "display_name": "Python 3",
   "language": "python",
   "name": "python3"
  },
  "language_info": {
   "codemirror_mode": {
    "name": "ipython",
    "version": 3
   },
   "file_extension": ".py",
   "mimetype": "text/x-python",
   "name": "python",
   "nbconvert_exporter": "python",
   "pygments_lexer": "ipython3",
   "version": "3.7.7"
  }
 },
 "nbformat": 4,
 "nbformat_minor": 4
}
