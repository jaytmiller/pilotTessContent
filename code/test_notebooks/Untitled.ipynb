{
 "cells": [
  {
   "cell_type": "markdown",
   "metadata": {},
   "source": [
    "# Priority 2 packages for TIKE\n",
    "Tests the install for the following\n",
    "- pyriod\n",
    "- pyVO\n",
    "- george\n",
    "- celerite\n",
    "- k2flix\n",
    "- tvguide\n",
    "- emcee\n",
    "- radvel\n",
    "- everest\n",
    "- starry\n",
    "- astrobase\n",
    "- reproject\n",
    "\n",
    "\n",
    "- keras\n",
    "- tensorflow\n",
    "- pytorch\n",
    "- exoplanet\n",
    "- allesfitter\n",
    "- jax\n",
    "- tqdm\n",
    "- astroML\n"
   ]
  },
  {
   "cell_type": "code",
   "execution_count": 1,
   "metadata": {},
   "outputs": [],
   "source": [
    "import Pyriod\n",
    "import pyvo as vo\n",
    "import tqdm\n",
    "import exoplanet"
   ]
  },
  {
   "cell_type": "code",
   "execution_count": null,
   "metadata": {},
   "outputs": [],
   "source": []
  }
 ],
 "metadata": {
  "kernelspec": {
   "display_name": "Python 3",
   "language": "python",
   "name": "python3"
  },
  "language_info": {
   "codemirror_mode": {
    "name": "ipython",
    "version": 3
   },
   "file_extension": ".py",
   "mimetype": "text/x-python",
   "name": "python",
   "nbconvert_exporter": "python",
   "pygments_lexer": "ipython3",
   "version": "3.7.6"
  }
 },
 "nbformat": 4,
 "nbformat_minor": 4
}
