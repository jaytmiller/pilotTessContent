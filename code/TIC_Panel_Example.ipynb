{
 "cells": [
  {
   "cell_type": "markdown",
   "metadata": {},
   "source": [
    "# Example TESS Catalog Queries\n",
    "This notebook shows you two example widgets. One does a simple cone-search of the TIC with sliders to adjust the radius and TESS magnitude of the returnec object.  The second overlays a search of the TIC onto a TESS image and identifies if there is 2-minute data on nearby stars. These use the `panel` module to allow for interactive widgets."
   ]
  },
  {
   "cell_type": "code",
   "execution_count": null,
   "metadata": {},
   "outputs": [],
   "source": [
    "import tic_viz as viz\n",
    "import panel as pn\n",
    "pn.extension()"
   ]
  },
  {
   "cell_type": "markdown",
   "metadata": {},
   "source": [
    "## Query TIC\n",
    "Simple cone sarch of the TESS Input Catalog. Enter a star name or coordinates as a string, either as an input to the function or after the panel appears.\n",
    "The table is sorted by distance from the requested location on the sky."
   ]
  },
  {
   "cell_type": "code",
   "execution_count": null,
   "metadata": {
    "scrolled": true
   },
   "outputs": [],
   "source": [
    "viz.query_tic(name=\"285.67942179, 50.24130577\")"
   ]
  },
  {
   "cell_type": "markdown",
   "metadata": {},
   "source": [
    "## Target Overview\n",
    "The `target_overview` function returns several tabs of information based on the selected target of interest. Since it is retrieving a TESS image, it takes a few seconds to load. You must input the target name or coordinates when calling the function, you cannot change the location after the panel loads. This function loads the following interactive tables and visualizations:\n",
    "* TIC parameters of nearby stars\n",
    "* 2-minute data availability of nearest targets\n",
    "* Available planet search data (DV files) for nearest targets\n",
    "* Plot of TESS image with overlayed stars.\n",
    "\n",
    "Input:\n",
    "* name: name of the star or coordinates\n",
    "* radius_deg: size of the cone search and image (0.4 maximum)\n",
    "* num_search: number of nearby stars to search for 2-minute data around"
   ]
  },
  {
   "cell_type": "code",
   "execution_count": null,
   "metadata": {
    "scrolled": false
   },
   "outputs": [],
   "source": [
    "viz.target_overview(name=\"Kepler-16\", radius_deg = 0.12, num_search = 20)"
   ]
  },
  {
   "cell_type": "code",
   "execution_count": null,
   "metadata": {
    "scrolled": false
   },
   "outputs": [],
   "source": []
  },
  {
   "cell_type": "code",
   "execution_count": null,
   "metadata": {},
   "outputs": [],
   "source": []
  },
  {
   "cell_type": "code",
   "execution_count": null,
   "metadata": {},
   "outputs": [],
   "source": []
  }
 ],
 "metadata": {
  "kernelspec": {
   "display_name": "Python 3",
   "language": "python",
   "name": "python3"
  },
  "language_info": {
   "codemirror_mode": {
    "name": "ipython",
    "version": 3
   },
   "file_extension": ".py",
   "mimetype": "text/x-python",
   "name": "python",
   "nbconvert_exporter": "python",
   "pygments_lexer": "ipython3",
   "version": "3.7.3"
  }
 },
 "nbformat": 4,
 "nbformat_minor": 4
}
