{
 "cells": [
  {
   "cell_type": "code",
   "execution_count": 1,
   "metadata": {
    "extensions": {
     "jupyter_dashboards": {
      "version": 1,
      "views": {
       "grid_default": {},
       "report_default": {
        "hidden": true
       }
      }
     }
    }
   },
   "outputs": [],
   "source": [
    "import numpy as np\n",
    "from astroquery.mast import Catalogs\n",
    "from astroquery.mast import Observations\n",
    "from astroquery.mast import Tesscut\n",
    "from astropy.coordinates import SkyCoord\n",
    "from astropy.wcs import WCS\n",
    "from astropy.io import fits\n",
    "import matplotlib.pyplot as plt\n",
    "from astropy.table import QTable\n",
    "\n",
    "import re\n",
    "\n",
    "%matplotlib inline"
   ]
  },
  {
   "cell_type": "markdown",
   "metadata": {
    "extensions": {
     "jupyter_dashboards": {
      "version": 1,
      "views": {
       "grid_default": {},
       "report_default": {
        "hidden": false
       }
      }
     }
    }
   },
   "source": [
    "----"
   ]
  },
  {
   "cell_type": "code",
   "execution_count": 2,
   "metadata": {
    "extensions": {
     "jupyter_dashboards": {
      "version": 1,
      "views": {
       "grid_default": {},
       "report_default": {
        "hidden": true
       }
      }
     }
    }
   },
   "outputs": [],
   "source": [
    "def get_tic_info(ticid, radius_deg=.10, maglimit = 14.5, cols=['ID', 'Tmag', 'Jmag', 'Teff','logg','ra', 'dec','TWOMASS','dstArcSec']):\n",
    "\n",
    "    starName = \"TIC \" + str(ticid)\n",
    "    catalogData = Catalogs.query_object(starName, radius = radius_deg, catalog = \"TIC\")\n",
    "    want = catalogData['Tmag'] <= maglimit\n",
    "    #I always want the first two regardless of magnitude, it returns sorted by angular distance\n",
    "    want[0:2] = [True, True]\n",
    "    \n",
    "    return(catalogData[want][cols])\n",
    "    \n"
   ]
  },
  {
   "cell_type": "code",
   "execution_count": 3,
   "metadata": {
    "extensions": {
     "jupyter_dashboards": {
      "version": 1,
      "views": {
       "grid_default": {},
       "report_default": {
        "hidden": true
       }
      }
     }
    }
   },
   "outputs": [],
   "source": [
    "# Define a function to simplify the plotting command that we do repeatedly.\n",
    "def plot_cutout(image):\n",
    "    \"\"\"\n",
    "    Plot image and add grid lines.\n",
    "    \"\"\"\n",
    "    plt.imshow(image, origin = 'lower', cmap = plt.cm.YlGnBu_r, \n",
    "           vmax = np.percentile(image, 92),\n",
    "           vmin = np.percentile(image, 5))\n",
    "\n",
    "    plt.grid(axis = 'both',color = 'white', ls = 'solid')\n",
    "\n",
    "\n",
    "\n",
    "def overplot_ticffi(targetlist, cutout_deg = .1,nearest=10):\n",
    "    \"\"\"\n",
    "    Plot tic positions on top of an ffi\n",
    "    sector =0 means use the first available, otherwise use the specified sector.\n",
    "    targetlist is a astropy table containing ID, ra, dec, Tmag\n",
    "    The cutout will be performed around the first ra/dec\n",
    "    \"\"\"\n",
    "    \n",
    "    ra = targetlist[0]['ra']\n",
    "    dec = targetlist[0]['dec']\n",
    "\n",
    "    coord = SkyCoord(ra, dec, unit = \"deg\")\n",
    "    \n",
    "    npixels = 2*np.ceil(cutout_deg*3600/21) + 4 #This assumes 21arcsecond pixels)\n",
    "    \n",
    "    if npixels > 60:\n",
    "        npixels = 60\n",
    "        print(\"Warning: cutout size set to 80 pixels.\")\n",
    "    if npixels < 10:\n",
    "        npixels = 10\n",
    "    \n",
    "    try:\n",
    "        hdulist = Tesscut.get_cutouts(coord, size = npixels)\n",
    "    except:\n",
    "        print[\"Cutout not available\"]\n",
    "        return\n",
    "    \n",
    "    hdu = hdulist[0]\n",
    "    firstImage = hdu[1].data['FLUX'][0]\n",
    "\n",
    "    wcs = WCS(hdu[2].header)\n",
    "\n",
    "    fig = plt.figure(figsize = (6, 6))\n",
    "    fig.add_subplot(111, projection = wcs)\n",
    "    plot_cutout(firstImage)\n",
    "\n",
    "    plt.xlabel('RA', fontsize = 12)\n",
    "    plt.ylabel('Dec', fontsize = 12)\n",
    "\n",
    "\n",
    "    starloc = wcs.all_world2pix([[ra,dec]],0)  #Second is origin\n",
    "    plt.scatter(starloc[0,0], starloc[0,1],s = 45,color = 'red')\n",
    "\n",
    "    # Make it a list of Ra, Dec pairs of the bright ones. This is now a list of nearby bright stars.\n",
    "    nearby_stars = list( map( lambda x,y:[x,y], targetlist['ra'], targetlist['dec'] ) )\n",
    "    \n",
    "    # Plot nearby stars as well, which we created using our Catalog call above.\n",
    "    nearby_loc = wcs.all_world2pix(nearby_stars[1:nearest],0)\n",
    "    plt.scatter(nearby_loc[1:nearest, 0], nearby_loc[1:nearest, 1], \n",
    "                s = 25, color = 'orange')\n",
    "    \n",
    "    for i,v in enumerate(nearby_loc[:nearest]):\n",
    "        plt.annotate(str(i), (nearby_loc[i][0], nearby_loc[i][1]),\n",
    "                     textcoords=\"offset points\", xytext=(2,2), ha='left',\n",
    "                    color = 'red', fontsize=15)\n",
    "    plt.title(\"TIC \"+ str(targetlist[0]['ID']))\n",
    "    \n",
    "    return firstImage, wcs"
   ]
  },
  {
   "cell_type": "code",
   "execution_count": 4,
   "metadata": {
    "extensions": {
     "jupyter_dashboards": {
      "version": 1,
      "views": {
       "grid_default": {},
       "report_default": {
        "hidden": true
       }
      }
     }
    }
   },
   "outputs": [],
   "source": [
    "def get_twomin_obs(ticlist):\n",
    "    \"\"\"\n",
    "    Given a list of ticids, return a table of all the data that is available on that target.\n",
    "    The table will be well formated to just be one one describing \n",
    "    the available sectors per target.\n",
    "    \n",
    "    Input: list of ticids, int\n",
    "    Return: full table (astropy table of tic, obsid, filenames, camera, ccd)\n",
    "            for all relevant two minute data files.\n",
    "            summary table (one line per ticid), list of sectors, list of camera and ccd\n",
    "    \"\"\"\n",
    "    \n",
    "    sectors=[]\n",
    "    gis=[]\n",
    "    obsid=[]\n",
    "    tmin=[]\n",
    "    tmax=[]\n",
    "    exptime=[]\n",
    "    target=[]\n",
    "    \n",
    "    dv_sectors=[]\n",
    "    dv_obsid=[]\n",
    "    dv_tmin=[]\n",
    "    dv_tmax=[]\n",
    "    dv_target=[]\n",
    "    dv_exptime=[]\n",
    "    \n",
    "    for tic in ticlist:\n",
    "        observations = Observations.query_criteria(obs_collection = \"TESS\",\n",
    "                                             dataproduct_type = [\"timeseries\"],\n",
    "                                             target_name = tic)\n",
    "        if len(observations) > 0:\n",
    "            observations.sort(keys=['sequence_number', 'target_name'])\n",
    "            \n",
    "            for obs in observations:\n",
    "                #Match for multi-sector observations\n",
    "                match = re.search(\"s\\d\\d\\d\\d-s\\d\\d\\d\\d\",obs['obs_id'])\n",
    "                \n",
    "                if match == None:\n",
    "                \n",
    "                    if int(obs['target_name']) == int(tic):\n",
    "                        obsid.append(obs['obs_id'])\n",
    "                        gis.append(obs['proposal_id'])\n",
    "                        sectors.append(obs['sequence_number'])\n",
    "                        tmin.append(obs['t_min'])\n",
    "                        tmax.append(obs['t_max'])\n",
    "                        exptime.append(int(obs['t_exptime']/60.0))\n",
    "                        target.append(obs['target_name'])\n",
    "                    \n",
    "                else:\n",
    "                    dv_sectors.append(match.group(0))\n",
    "                    dv_obsid.append(obs['obs_id'])\n",
    "                    dv_tmin.append(obs['t_min'])\n",
    "                    dv_tmax.append(obs['t_max'])\n",
    "                    dv_target.append(obs['target_name'])\n",
    "                    dv_exptime.append(int(obs['t_exptime']/60.0))\n",
    "    \n",
    "    ts_table = QTable([target, sectors, gis, obsid, exptime, tmin,tmax],\n",
    "                 names=('target_tic', 'sectors', 'GI_nums', 'obs_id', 'Exp_time_min','t_min','t_max'),\n",
    "                 meta={'name':'observation table'})\n",
    "    dv_table = QTable([dv_target, dv_sectors, dv_obsid, dv_exptime, dv_tmin, dv_tmax],\n",
    "                 names=('target_tic', 'sector_range','obs_id', 'Exp_time_min','t_min','t_max'),\n",
    "                 meta={'name':'Multi-Sector Planet Search'})\n",
    "    \n",
    "    return ts_table, dv_table\n",
    "    "
   ]
  },
  {
   "cell_type": "code",
   "execution_count": 5,
   "metadata": {
    "extensions": {
     "jupyter_dashboards": {
      "version": 1,
      "views": {
       "grid_default": {},
       "report_default": {
        "hidden": false
       }
      }
     }
    }
   },
   "outputs": [
    {
     "data": {
      "text/html": [
       "<i>QTable length=9</i>\n",
       "<table id=\"table4733204856-86702\" class=\"table-striped table-bordered table-condensed\">\n",
       "<thead><tr><th>idx</th><th>target_tic</th><th>sectors</th><th>GI_nums</th><th>obs_id</th><th>Exp_time_min</th><th>t_min</th><th>t_max</th></tr></thead>\n",
       "<tr><td>0</td><td>261105201</td><td>1</td><td>G011154_G011048_G011250</td><td>tess2018206045859-s0001-0000000261105201-0120-s</td><td>2</td><td>58324.79285543</td><td>58352.6761776</td></tr>\n",
       "<tr><td>1</td><td>261105201</td><td>2</td><td>G011154_G011048_G011250</td><td>tess2018234235059-s0002-0000000261105201-0121-s</td><td>2</td><td>58353.60117736</td><td>58381.01367064</td></tr>\n",
       "<tr><td>2</td><td>261105201</td><td>4</td><td>G011154_G011048_G011250</td><td>tess2018292075959-s0004-0000000261105201-0124-s</td><td>2</td><td>58410.39977455</td><td>58436.34976819</td></tr>\n",
       "<tr><td>3</td><td>261105201</td><td>5</td><td>G011154_G011048_G011250</td><td>tess2018319095959-s0005-0000000261105201-0125-s</td><td>2</td><td>58437.47615681</td><td>58463.78726148</td></tr>\n",
       "<tr><td>4</td><td>261105201</td><td>7</td><td>G011154_G011048_G011250</td><td>tess2019006130736-s0007-0000000261105201-0131-s</td><td>2</td><td>58491.12473295</td><td>58515.58583387</td></tr>\n",
       "<tr><td>5</td><td>261105201</td><td>8</td><td>G011154_G011048_G011250</td><td>tess2019032160000-s0008-0000000261105201-0136-s</td><td>2</td><td>58516.83999998</td><td>58541.49971185</td></tr>\n",
       "<tr><td>6</td><td>261105201</td><td>11</td><td>G011154_G011048_G011250</td><td>tess2019112060037-s0011-0000000261105201-0143-s</td><td>2</td><td>58596.27052234</td><td>58623.39134414</td></tr>\n",
       "<tr><td>7</td><td>261105201</td><td>12</td><td>G011154_G011048_G011250</td><td>tess2019140104343-s0012-0000000261105201-0144-s</td><td>2</td><td>58624.44828816</td><td>58652.39133183</td></tr>\n",
       "<tr><td>8</td><td>261105201</td><td>13</td><td>G011154_G011048_G011250</td><td>tess2019169103026-s0013-0000000261105201-0146-s</td><td>2</td><td>58653.41355347</td><td>58681.85659691</td></tr>\n",
       "</table><style>table.dataTable {clear: both; width: auto !important; margin: 0 !important;}\n",
       ".dataTables_info, .dataTables_length, .dataTables_filter, .dataTables_paginate{\n",
       "display: inline-block; margin-right: 1em; }\n",
       ".paginate_button { margin-right: 5px; }\n",
       "</style>\n",
       "<script>\n",
       "\n",
       "var astropy_sort_num = function(a, b) {\n",
       "    var a_num = parseFloat(a);\n",
       "    var b_num = parseFloat(b);\n",
       "\n",
       "    if (isNaN(a_num) && isNaN(b_num))\n",
       "        return ((a < b) ? -1 : ((a > b) ? 1 : 0));\n",
       "    else if (!isNaN(a_num) && !isNaN(b_num))\n",
       "        return ((a_num < b_num) ? -1 : ((a_num > b_num) ? 1 : 0));\n",
       "    else\n",
       "        return isNaN(a_num) ? -1 : 1;\n",
       "}\n",
       "\n",
       "require.config({paths: {\n",
       "    datatables: 'https://cdn.datatables.net/1.10.12/js/jquery.dataTables.min'\n",
       "}});\n",
       "require([\"datatables\"], function(){\n",
       "    console.log(\"$('#table4733204856-86702').dataTable()\");\n",
       "    \n",
       "jQuery.extend( jQuery.fn.dataTableExt.oSort, {\n",
       "    \"optionalnum-asc\": astropy_sort_num,\n",
       "    \"optionalnum-desc\": function (a,b) { return -astropy_sort_num(a, b); }\n",
       "});\n",
       "\n",
       "    $('#table4733204856-86702').dataTable({\n",
       "        order: [],\n",
       "        pageLength: 50,\n",
       "        lengthMenu: [[10, 25, 50, 100, 500, 1000, -1], [10, 25, 50, 100, 500, 1000, 'All']],\n",
       "        pagingType: \"full_numbers\",\n",
       "        columnDefs: [{targets: [0, 2, 5, 6, 7], type: \"optionalnum\"}]\n",
       "    });\n",
       "});\n",
       "</script>\n"
      ],
      "text/plain": [
       "<IPython.core.display.HTML object>"
      ]
     },
     "execution_count": 5,
     "metadata": {},
     "output_type": "execute_result"
    }
   ],
   "source": [
    "ticlist = [261105201]\n",
    "\n",
    "obs_table, dv_table = get_twomin_obs(ticlist)\n",
    "obs_table.show_in_notebook()"
   ]
  },
  {
   "cell_type": "code",
   "execution_count": 6,
   "metadata": {
    "extensions": {
     "jupyter_dashboards": {
      "version": 1,
      "views": {
       "grid_default": {},
       "report_default": {
        "hidden": false
       }
      }
     }
    }
   },
   "outputs": [
    {
     "data": {
      "text/html": [
       "<i>QTable length=4</i>\n",
       "<table id=\"table4733204072-33537\" class=\"table-striped table-bordered table-condensed\">\n",
       "<thead><tr><th>idx</th><th>target_tic</th><th>sector_range</th><th>obs_id</th><th>Exp_time_min</th><th>t_min</th><th>t_max</th></tr></thead>\n",
       "<tr><td>0</td><td>261105201</td><td>s0001-s0002</td><td>tess2018206190142-s0001-s0002-0000000261105201-00111</td><td>2</td><td>58324.79400419</td><td>58381.01388402</td></tr>\n",
       "<tr><td>1</td><td>261105201</td><td>s0001-s0006</td><td>tess2018206190142-s0001-s0006-0000000261105201-00196</td><td>2</td><td>58324.79400419</td><td>58463.78607698</td></tr>\n",
       "<tr><td>2</td><td>261105201</td><td>s0001-s0009</td><td>tess2018206190142-s0001-s0009-0000000261105201-00205</td><td>2</td><td>58324.79400419</td><td>58541.49913238</td></tr>\n",
       "<tr><td>3</td><td>261105201</td><td>s0001-s0013</td><td>tess2018206190142-s0001-s0013-0000000261105201-00226</td><td>2</td><td>58324.79400419</td><td>58681.85780811</td></tr>\n",
       "</table><style>table.dataTable {clear: both; width: auto !important; margin: 0 !important;}\n",
       ".dataTables_info, .dataTables_length, .dataTables_filter, .dataTables_paginate{\n",
       "display: inline-block; margin-right: 1em; }\n",
       ".paginate_button { margin-right: 5px; }\n",
       "</style>\n",
       "<script>\n",
       "\n",
       "var astropy_sort_num = function(a, b) {\n",
       "    var a_num = parseFloat(a);\n",
       "    var b_num = parseFloat(b);\n",
       "\n",
       "    if (isNaN(a_num) && isNaN(b_num))\n",
       "        return ((a < b) ? -1 : ((a > b) ? 1 : 0));\n",
       "    else if (!isNaN(a_num) && !isNaN(b_num))\n",
       "        return ((a_num < b_num) ? -1 : ((a_num > b_num) ? 1 : 0));\n",
       "    else\n",
       "        return isNaN(a_num) ? -1 : 1;\n",
       "}\n",
       "\n",
       "require.config({paths: {\n",
       "    datatables: 'https://cdn.datatables.net/1.10.12/js/jquery.dataTables.min'\n",
       "}});\n",
       "require([\"datatables\"], function(){\n",
       "    console.log(\"$('#table4733204072-33537').dataTable()\");\n",
       "    \n",
       "jQuery.extend( jQuery.fn.dataTableExt.oSort, {\n",
       "    \"optionalnum-asc\": astropy_sort_num,\n",
       "    \"optionalnum-desc\": function (a,b) { return -astropy_sort_num(a, b); }\n",
       "});\n",
       "\n",
       "    $('#table4733204072-33537').dataTable({\n",
       "        order: [],\n",
       "        pageLength: 50,\n",
       "        lengthMenu: [[10, 25, 50, 100, 500, 1000, -1], [10, 25, 50, 100, 500, 1000, 'All']],\n",
       "        pagingType: \"full_numbers\",\n",
       "        columnDefs: [{targets: [0, 4, 5, 6], type: \"optionalnum\"}]\n",
       "    });\n",
       "});\n",
       "</script>\n"
      ],
      "text/plain": [
       "<IPython.core.display.HTML object>"
      ]
     },
     "execution_count": 6,
     "metadata": {},
     "output_type": "execute_result"
    }
   ],
   "source": [
    "dv_table.show_in_notebook()"
   ]
  },
  {
   "cell_type": "code",
   "execution_count": 7,
   "metadata": {
    "extensions": {
     "jupyter_dashboards": {
      "version": 1,
      "views": {
       "grid_default": {},
       "report_default": {
        "hidden": true
       }
      }
     }
    }
   },
   "outputs": [],
   "source": [
    "obs_table.sort(keys=['sectors'])"
   ]
  },
  {
   "cell_type": "code",
   "execution_count": 8,
   "metadata": {
    "extensions": {
     "jupyter_dashboards": {
      "version": 1,
      "views": {
       "grid_default": {},
       "report_default": {
        "hidden": false
       }
      }
     }
    }
   },
   "outputs": [
    {
     "name": "stdout",
     "output_type": "stream",
     "text": [
      "<re.Match object; span=(18, 29), match='s0001-s0006'>\n"
     ]
    }
   ],
   "source": [
    "import re\n",
    "\n",
    "match = re.search(\"s\\d\\d\\d\\d-s\\d\\d\\d\\d\",'tess2018206190142-s0001-s0006-0000000261105201-00196')\n",
    "print(match)\n",
    "if match == None:\n",
    "    print('hi')\n",
    "#obs_table"
   ]
  },
  {
   "cell_type": "markdown",
   "metadata": {
    "extensions": {
     "jupyter_dashboards": {
      "version": 1,
      "views": {
       "grid_default": {},
       "report_default": {
        "hidden": false
       }
      }
     }
    }
   },
   "source": [
    "## Input Catalog and Scene Information"
   ]
  },
  {
   "cell_type": "code",
   "execution_count": 14,
   "metadata": {
    "extensions": {
     "jupyter_dashboards": {
      "version": 1,
      "views": {
       "grid_default": {},
       "report_default": {
        "hidden": true
       }
      }
     }
    }
   },
   "outputs": [],
   "source": [
    "ticid=272489043\n",
    "size=.11 #size in degrees\n",
    "maglimit = 15\n",
    "nearest=11\n",
    "cols=['ID', 'Tmag', 'Jmag', 'Teff','logg','ra', 'dec','dstArcSec']"
   ]
  },
  {
   "cell_type": "code",
   "execution_count": 15,
   "metadata": {
    "extensions": {
     "jupyter_dashboards": {
      "version": 1,
      "views": {
       "grid_default": {},
       "report_default": {
        "hidden": false
       }
      }
     }
    },
    "scrolled": true
   },
   "outputs": [
    {
     "data": {
      "text/html": [
       "<i>Table masked=True length=99</i>\n",
       "<table id=\"table4752969456-399093\" class=\"table-striped table-bordered table-condensed\">\n",
       "<thead><tr><th>idx</th><th>ID</th><th>Tmag</th><th>Jmag</th><th>Teff</th><th>logg</th><th>ra</th><th>dec</th><th>dstArcSec</th></tr></thead>\n",
       "<tr><td>0</td><td>272489043</td><td>8.26636</td><td>8.033</td><td>8400.0</td><td>3.74688</td><td>296.564714099499</td><td>43.9475942241155</td><td>0.0</td></tr>\n",
       "<tr><td>1</td><td>1881230276</td><td>19.5799</td><td>nan</td><td>nan</td><td>nan</td><td>296.569034680852</td><td>43.9480903138861</td><td>11.340023436841728</td></tr>\n",
       "<tr><td>2</td><td>272489007</td><td>14.182</td><td>13.501</td><td>nan</td><td>nan</td><td>296.553927</td><td>43.933909</td><td>56.64904501350514</td></tr>\n",
       "<tr><td>3</td><td>1881230237</td><td>14.3339</td><td>nan</td><td>6280.0</td><td>3.71312</td><td>296.553991050993</td><td>43.9338067750824</td><td>56.88808805366614</td></tr>\n",
       "<tr><td>4</td><td>272489081</td><td>13.7844</td><td>12.599</td><td>4669.0</td><td>nan</td><td>296.578047913126</td><td>43.9634053655751</td><td>66.58811731959132</td></tr>\n",
       "<tr><td>5</td><td>272489012</td><td>13.7921</td><td>12.664</td><td>4609.0</td><td>nan</td><td>296.587157745921</td><td>43.9348409284229</td><td>74.1120460093316</td></tr>\n",
       "<tr><td>6</td><td>272489100</td><td>12.0522</td><td>11.522</td><td>6707.35</td><td>4.22404</td><td>296.555971341155</td><td>43.9677616542631</td><td>76.05577119446856</td></tr>\n",
       "<tr><td>7</td><td>272489085</td><td>14.0833</td><td>12.766</td><td>4434.0</td><td>nan</td><td>296.5432612775</td><td>43.9644056982799</td><td>82.18110316873836</td></tr>\n",
       "<tr><td>8</td><td>272488984</td><td>13.1168</td><td>12.575</td><td>6598.01</td><td>4.25315</td><td>296.577293766998</td><td>43.9233401497028</td><td>93.2061932773044</td></tr>\n",
       "<tr><td>9</td><td>272488975</td><td>13.6962</td><td>12.959</td><td>5949.0</td><td>3.67986</td><td>296.576294338452</td><td>43.9203427539854</td><td>102.59608911768139</td></tr>\n",
       "<tr><td>10</td><td>272488981</td><td>12.1975</td><td>11.697</td><td>6683.22</td><td>4.23986</td><td>296.545809168915</td><td>43.921924166564</td><td>104.60420646102064</td></tr>\n",
       "<tr><td>11</td><td>272489074</td><td>13.3124</td><td>12.571</td><td>5698.0</td><td>3.85039</td><td>296.526827891736</td><td>43.960222394088</td><td>108.20103612583908</td></tr>\n",
       "<tr><td>12</td><td>272488966</td><td>13.1467</td><td>12.439</td><td>5693.0</td><td>4.20212</td><td>296.562146689986</td><td>43.917508232837</td><td>108.51390390289285</td></tr>\n",
       "<tr><td>13</td><td>272488997</td><td>13.2304</td><td>12.402</td><td>5269.44</td><td>3.73735</td><td>296.5302291768</td><td>43.9296554152634</td><td>110.2817122306285</td></tr>\n",
       "<tr><td>14</td><td>272489110</td><td>12.2382</td><td>11.332</td><td>5080.35</td><td>nan</td><td>296.59511324767</td><td>43.9707173309932</td><td>114.60875493440238</td></tr>\n",
       "<tr><td>15</td><td>272488957</td><td>14.4828</td><td>13.34</td><td>4686.0</td><td>nan</td><td>296.564755973895</td><td>43.915163680878</td><td>116.75000613118488</td></tr>\n",
       "<tr><td>16</td><td>272488960</td><td>13.513</td><td>13.152</td><td>8150.0</td><td>4.19166</td><td>296.579040931498</td><td>43.9163228014198</td><td>118.54643242116029</td></tr>\n",
       "<tr><td>17</td><td>272488996</td><td>14.2201</td><td>13.59</td><td>6307.0</td><td>4.33885</td><td>296.52139201694</td><td>43.9293094270229</td><td>130.17371501634614</td></tr>\n",
       "<tr><td>18</td><td>272488986</td><td>13.5525</td><td>12.946</td><td>6389.36</td><td>4.07093</td><td>296.603054368121</td><td>43.924091398756</td><td>130.52998843015064</td></tr>\n",
       "<tr><td>19</td><td>272489032</td><td>13.8952</td><td>13.284</td><td>6194.0</td><td>3.94554</td><td>296.61756899126</td><td>43.9403401778045</td><td>139.470129807195</td></tr>\n",
       "<tr><td>20</td><td>272488955</td><td>13.5994</td><td>12.465</td><td>4584.0</td><td>nan</td><td>296.535905903581</td><td>43.9148281646404</td><td>139.61541584504755</td></tr>\n",
       "<tr><td>21</td><td>272489149</td><td>13.7583</td><td>12.694</td><td>4360.0</td><td>4.57736</td><td>296.588362054489</td><td>43.9838374973613</td><td>144.1475454374412</td></tr>\n",
       "<tr><td>22</td><td>272489164</td><td>13.5101</td><td>12.407</td><td>4980.0</td><td>nan</td><td>296.56561748238</td><td>43.9880461611572</td><td>145.64578330676957</td></tr>\n",
       "<tr><td>23</td><td>272489123</td><td>13.0044</td><td>12.334</td><td>6109.0</td><td>4.0113</td><td>296.521105734612</td><td>43.9742527368067</td><td>148.25712267888372</td></tr>\n",
       "<tr><td>24</td><td>272488934</td><td>13.1974</td><td>12.168</td><td>5149.7</td><td>nan</td><td>296.584529714156</td><td>43.908846414187</td><td>148.65277641988013</td></tr>\n",
       "<tr><td>25</td><td>272489002</td><td>12.9692</td><td>12.327</td><td>6001.13</td><td>4.01726</td><td>296.508087067967</td><td>43.9325437530843</td><td>156.4709918588841</td></tr>\n",
       "<tr><td>26</td><td>272489013</td><td>14.4403</td><td>13.663</td><td>5399.0</td><td>4.50635</td><td>296.506610511277</td><td>43.9350239760546</td><td>157.26649915450383</td></tr>\n",
       "<tr><td>27</td><td>272488922</td><td>14.1454</td><td>13.403</td><td>5711.0</td><td>3.64007</td><td>296.54577959264</td><td>43.9047582133908</td><td>161.8358846905927</td></tr>\n",
       "<tr><td>28</td><td>272489003</td><td>14.0446</td><td>13.454</td><td>6543.0</td><td>4.26882</td><td>296.504930690881</td><td>43.9331329496348</td><td>163.4828276369313</td></tr>\n",
       "<tr><td>29</td><td>272488921</td><td>12.1368</td><td>11.002</td><td>4744.31</td><td>nan</td><td>296.522986315459</td><td>43.9044554877191</td><td>189.2718491505921</td></tr>\n",
       "<tr><td>30</td><td>272489064</td><td>13.7707</td><td>13.174</td><td>6385.0</td><td>3.92684</td><td>296.491942843862</td><td>43.9551031428022</td><td>190.53195649001916</td></tr>\n",
       "<tr><td>31</td><td>272489174</td><td>13.862</td><td>12.75</td><td>4661.0</td><td>nan</td><td>296.521150528985</td><td>43.9908732716561</td><td>192.39305289999174</td></tr>\n",
       "<tr><td>32</td><td>272489198</td><td>13.9566</td><td>12.942</td><td>4827.0</td><td>nan</td><td>296.591617874162</td><td>43.9986822546433</td><td>196.68203237404438</td></tr>\n",
       "<tr><td>33</td><td>272488906</td><td>12.6865</td><td>11.603</td><td>4699.18</td><td>nan</td><td>296.520046143718</td><td>43.8995508167258</td><td>208.1552805199454</td></tr>\n",
       "<tr><td>34</td><td>272489142</td><td>13.8641</td><td>12.82</td><td>4899.0</td><td>nan</td><td>296.630094181606</td><td>43.9815832371182</td><td>208.97869194716162</td></tr>\n",
       "<tr><td>35</td><td>272489036</td><td>13.9521</td><td>13.244</td><td>5717.4</td><td>4.21104</td><td>296.483424250455</td><td>43.9424081183516</td><td>211.53064712684704</td></tr>\n",
       "<tr><td>36</td><td>272489183</td><td>14.2174</td><td>13.38</td><td>5382.0</td><td>3.78923</td><td>296.617364088199</td><td>43.9927424633349</td><td>212.19205251665952</td></tr>\n",
       "<tr><td>37</td><td>272608914</td><td>13.4774</td><td>12.88</td><td>6438.99</td><td>3.91536</td><td>296.642081668222</td><td>43.969917350718</td><td>215.99843111747307</td></tr>\n",
       "<tr><td>38</td><td>272488866</td><td>11.6086</td><td>11.394</td><td>10207.0</td><td>3.60181</td><td>296.56451170858</td><td>43.8859047479812</td><td>222.08273427789692</td></tr>\n",
       "<tr><td>39</td><td>272488936</td><td>14.4518</td><td>13.822</td><td>6209.0</td><td>3.77383</td><td>296.492530688259</td><td>43.9092896756159</td><td>232.4687130672613</td></tr>\n",
       "<tr><td>40</td><td>272488917</td><td>14.0056</td><td>13.277</td><td>5789.0</td><td>4.12822</td><td>296.496542405746</td><td>43.9030432097904</td><td>238.6784086576336</td></tr>\n",
       "<tr><td>41</td><td>272371161</td><td>14.2393</td><td>13.107</td><td>4786.0</td><td>nan</td><td>296.46847246597</td><td>43.9425647672052</td><td>250.11635993420552</td></tr>\n",
       "<tr><td>42</td><td>272488847</td><td>11.5941</td><td>11.154</td><td>7211.0</td><td>4.10825</td><td>296.578680676779</td><td>43.8787186157326</td><td>250.58382636202055</td></tr>\n",
       "<tr><td>43</td><td>272489243</td><td>13.8702</td><td>13.273</td><td>6073.0</td><td>4.28052</td><td>296.569369504233</td><td>44.0172258591211</td><td>250.96379064877826</td></tr>\n",
       "<tr><td>44</td><td>272489157</td><td>12.3936</td><td>11.337</td><td>4832.47</td><td>nan</td><td>296.48295471464</td><td>43.9855132078733</td><td>252.01777488786894</td></tr>\n",
       "<tr><td>45</td><td>272488843</td><td>13.7001</td><td>12.969</td><td>5611.0</td><td>4.17259</td><td>296.564070250836</td><td>43.8774019138029</td><td>252.69783399644095</td></tr>\n",
       "<tr><td>46</td><td>272608872</td><td>13.8997</td><td>12.741</td><td>4625.0</td><td>nan</td><td>296.649037685155</td><td>43.9844032589895</td><td>255.53485176454612</td></tr>\n",
       "<tr><td>47</td><td>272489247</td><td>13.8107</td><td>13.189</td><td>5987.0</td><td>4.25383</td><td>296.571677296893</td><td>44.0185384506875</td><td>256.0353489690027</td></tr>\n",
       "<tr><td>48</td><td>272489209</td><td>13.4799</td><td>12.892</td><td>6911.9</td><td>3.85751</td><td>296.507455641464</td><td>44.0057266560131</td><td>256.5158205961188</td></tr>\n",
       "<tr><td>49</td><td>272371158</td><td>13.1553</td><td>12.28</td><td>5394.12</td><td>nan</td><td>296.465661243373</td><td>43.94267685321</td><td>257.3562122571952</td></tr>\n",
       "<tr><td>50</td><td>272608945</td><td>11.497</td><td>10.392</td><td>4625.2</td><td>nan</td><td>296.66463908854</td><td>43.9597187261035</td><td>262.6226906770186</td></tr>\n",
       "<tr><td>51</td><td>272488901</td><td>14.2914</td><td>13.187</td><td>4302.0</td><td>4.57201</td><td>296.639915929256</td><td>43.8980781339598</td><td>264.19671499562753</td></tr>\n",
       "<tr><td>52</td><td>272608845</td><td>14.1116</td><td>13.175</td><td>5364.0</td><td>4.1908</td><td>296.647640598614</td><td>43.9949978548602</td><td>274.37920797563515</td></tr>\n",
       "<tr><td>53</td><td>272608958</td><td>13.4667</td><td>12.394</td><td>4719.0</td><td>nan</td><td>296.670040847644</td><td>43.955581382752</td><td>274.4892278986493</td></tr>\n",
       "<tr><td>54</td><td>272608862</td><td>12.9942</td><td>12.024</td><td>5043.6</td><td>nan</td><td>296.655644673634</td><td>43.9867859821324</td><td>274.62102243826837</td></tr>\n",
       "<tr><td>55</td><td>272371055</td><td>14.1557</td><td>13.249</td><td>5180.0</td><td>nan</td><td>296.465236793288</td><td>43.9750968264085</td><td>276.1368812409513</td></tr>\n",
       "<tr><td>56</td><td>272488848</td><td>12.8566</td><td>12.151</td><td>5798.0</td><td>4.18735</td><td>296.617701130812</td><td>43.8794886646168</td><td>281.06308052340216</td></tr>\n",
       "<tr><td>57</td><td>272489254</td><td>14.0143</td><td>12.828</td><td>4463.0</td><td>nan</td><td>296.608552911135</td><td>44.0207456088482</td><td>286.78494687530315</td></tr>\n",
       "<tr><td>58</td><td>272489240</td><td>14.0392</td><td>13.078</td><td>5020.0</td><td>nan</td><td>296.620671519342</td><td>44.016725479004</td><td>288.00809093368633</td></tr>\n",
       "<tr><td>59</td><td>272608814</td><td>13.4254</td><td>12.723</td><td>5888.99</td><td>3.67659</td><td>296.642105625059</td><td>44.0051330175588</td><td>288.2792991628635</td></tr>\n",
       "<tr><td>60</td><td>272489253</td><td>13.3997</td><td>12.305</td><td>4594.3</td><td>nan</td><td>296.610696274236</td><td>44.0205469176485</td><td>288.376800196196</td></tr>\n",
       "<tr><td>61</td><td>272488859</td><td>11.1716</td><td>10.612</td><td>6233.65</td><td>4.40822</td><td>296.496679874823</td><td>43.8838545031228</td><td>289.4510018535326</td></tr>\n",
       "<tr><td>62</td><td>272488839</td><td>11.9529</td><td>10.953</td><td>4802.65</td><td>nan</td><td>296.620826972101</td><td>43.8762216790935</td><td>295.2910311362728</td></tr>\n",
       "<tr><td>63</td><td>272608840</td><td>13.423</td><td>12.377</td><td>4997.0</td><td>nan</td><td>296.656462717445</td><td>43.997048864847</td><td>296.9861896190888</td></tr>\n",
       "<tr><td>64</td><td>272488863</td><td>10.6081</td><td>9.526</td><td>4718.0</td><td>nan</td><td>296.489231072707</td><td>43.8847091092518</td><td>299.27966993314976</td></tr>\n",
       "<tr><td>65</td><td>272371252</td><td>12.2879</td><td>11.267</td><td>5047.23</td><td>nan</td><td>296.462118407858</td><td>43.9058404300623</td><td>305.543170313154</td></tr>\n",
       "<tr><td>66</td><td>272608973</td><td>12.1676</td><td>11.594</td><td>6361.02</td><td>4.31057</td><td>296.682473863386</td><td>43.9523719790658</td><td>305.6946221942677</td></tr>\n",
       "<tr><td>67</td><td>272489221</td><td>9.66511</td><td>8.795</td><td>4882.15</td><td>nan</td><td>296.481874693521</td><td>44.0091522535185</td><td>308.4867749799504</td></tr>\n",
       "<tr><td>68</td><td>272608896</td><td>14.3028</td><td>13.564</td><td>5886.0</td><td>4.28662</td><td>296.677405523079</td><td>43.9753318880603</td><td>308.6187360764348</td></tr>\n",
       "<tr><td>69</td><td>272488783</td><td>13.6331</td><td>12.508</td><td>4730.0</td><td>nan</td><td>296.557716792197</td><td>43.85795058432</td><td>323.22709213480636</td></tr>\n",
       "<tr><td>70</td><td>272609017</td><td>14.0025</td><td>12.695</td><td>4390.0</td><td>nan</td><td>296.689041771531</td><td>43.9371219730596</td><td>324.47204403501934</td></tr>\n",
       "<tr><td>71</td><td>272488787</td><td>13.7026</td><td>13.133</td><td>6399.0</td><td>4.18592</td><td>296.598011551036</td><td>43.8593226898505</td><td>329.3053095242477</td></tr>\n",
       "<tr><td>72</td><td>272489306</td><td>13.9646</td><td>13.281</td><td>5828.0</td><td>3.88224</td><td>296.546050066096</td><td>44.0388361331963</td><td>332.0085957380565</td></tr>\n",
       "<tr><td>73</td><td>272489289</td><td>13.8359</td><td>12.865</td><td>4931.0</td><td>nan</td><td>296.51113728912</td><td>44.0321532111098</td><td>334.54934960433536</td></tr>\n",
       "<tr><td>74</td><td>272488803</td><td>13.171</td><td>11.975</td><td>4388.71</td><td>nan</td><td>296.624445567899</td><td>43.8649049646754</td><td>335.5835067276442</td></tr>\n",
       "<tr><td>75</td><td>272489250</td><td>14.4182</td><td>13.368</td><td>4912.0</td><td>nan</td><td>296.479365829993</td><td>44.0195214403408</td><td>340.47863895130405</td></tr>\n",
       "<tr><td>76</td><td>272488790</td><td>12.8841</td><td>11.601</td><td>4404.57</td><td>nan</td><td>296.510852609175</td><td>43.8607543116434</td><td>342.41982056559914</td></tr>\n",
       "<tr><td>77</td><td>272370950</td><td>13.7585</td><td>12.909</td><td>5185.0</td><td>4.61737</td><td>296.45956460126</td><td>44.005661563456</td><td>343.37019615230315</td></tr>\n",
       "<tr><td>78</td><td>272608821</td><td>13.0769</td><td>11.891</td><td>4500.0</td><td>nan</td><td>296.67304643843</td><td>44.0027686646369</td><td>343.83360272801855</td></tr>\n",
       "<tr><td>79</td><td>1881230860</td><td>13.8413</td><td>nan</td><td>nan</td><td>nan</td><td>296.633473520003</td><td>44.0296636439456</td><td>344.9760846458824</td></tr>\n",
       "<tr><td>80</td><td>272489274</td><td>13.6639</td><td>13.023</td><td>6375.0</td><td>3.92603</td><td>296.49054714606</td><td>44.0272803425715</td><td>345.2517469104401</td></tr>\n",
       "<tr><td>81</td><td>272489280</td><td>13.605</td><td>12.581</td><td>nan</td><td>nan</td><td>296.633528</td><td>44.029789</td><td>345.435347905152</td></tr>\n",
       "<tr><td>82</td><td>272371322</td><td>12.4534</td><td>11.353</td><td>4721.58</td><td>nan</td><td>296.461290735831</td><td>43.8862040735218</td><td>347.5276906757492</td></tr>\n",
       "<tr><td>83</td><td>272609217</td><td>14.1621</td><td>13.486</td><td>6078.0</td><td>4.4778</td><td>296.64824010282</td><td>43.871339777825</td><td>349.6967996976115</td></tr>\n",
       "<tr><td>84</td><td>272370996</td><td>14.3335</td><td>13.6</td><td>5743.0</td><td>4.52645</td><td>296.44494436672</td><td>43.9928095237017</td><td>350.4149026544605</td></tr>\n",
       "<tr><td>85</td><td>272371186</td><td>13.6699</td><td>13.016</td><td>6074.0</td><td>4.19694</td><td>296.431171099817</td><td>43.9310087866105</td><td>351.2909373807504</td></tr>\n",
       "<tr><td>86</td><td>1881230616</td><td>13.3604</td><td>nan</td><td>nan</td><td>nan</td><td>296.453858530877</td><td>44.0045593823724</td><td>352.89314648201656</td></tr>\n",
       "<tr><td>87</td><td>272370957</td><td>13.3404</td><td>11.516</td><td>5783.29</td><td>nan</td><td>296.453406710639</td><td>44.0048016964244</td><td>354.3521839110875</td></tr>\n",
       "<tr><td>88</td><td>272488765</td><td>14.1934</td><td>13.086</td><td>4707.0</td><td>nan</td><td>296.548439132277</td><td>43.8497308172637</td><td>354.82878584055015</td></tr>\n",
       "<tr><td>89</td><td>272488789</td><td>11.2757</td><td>10.691</td><td>6131.05</td><td>4.1939</td><td>296.632382542946</td><td>43.8597202809839</td><td>361.776434045171</td></tr>\n",
       "<tr><td>90</td><td>272488757</td><td>13.1718</td><td>12.454</td><td>5567.14</td><td>3.92371</td><td>296.555067196266</td><td>43.846320892835</td><td>365.4418520807428</td></tr>\n",
       "<tr><td>91</td><td>272489338</td><td>12.8272</td><td>12.231</td><td>6253.38</td><td>3.91688</td><td>296.531587772653</td><td>44.0468837644952</td><td>367.5931501917845</td></tr>\n",
       "<tr><td>92</td><td>272488753</td><td>14.4903</td><td>13.711</td><td>5750.0</td><td>4.3475</td><td>296.555771777957</td><td>43.8452312214844</td><td>369.2362366131692</td></tr>\n",
       "<tr><td>93</td><td>272609042</td><td>11.0669</td><td>9.971</td><td>4573.29</td><td>nan</td><td>296.706267719686</td><td>43.9302309502861</td><td>372.2335902892831</td></tr>\n",
       "<tr><td>94</td><td>272609094</td><td>8.619</td><td>6.681</td><td>3253.0</td><td>nan</td><td>296.702604302434</td><td>43.9106073448836</td><td>381.50110201449627</td></tr>\n",
       "<tr><td>95</td><td>272371063</td><td>13.0737</td><td>11.991</td><td>4814.16</td><td>nan</td><td>296.421112506181</td><td>43.9731041554713</td><td>383.2869522669374</td></tr>\n",
       "<tr><td>96</td><td>272488759</td><td>13.2715</td><td>12.203</td><td>4833.0</td><td>nan</td><td>296.511781262361</td><td>43.847019766842</td><td>387.23139128308827</td></tr>\n",
       "<tr><td>97</td><td>272608918</td><td>13.5449</td><td>12.806</td><td>5955.0</td><td>3.72228</td><td>296.712203445663</td><td>43.9681795807162</td><td>389.3308368597683</td></tr>\n",
       "<tr><td>98</td><td>272488755</td><td>13.5405</td><td>13.006</td><td>6841.88</td><td>4.12705</td><td>296.508081497568</td><td>43.8457501643542</td><td>394.9773006905436</td></tr>\n",
       "</table><style>table.dataTable {clear: both; width: auto !important; margin: 0 !important;}\n",
       ".dataTables_info, .dataTables_length, .dataTables_filter, .dataTables_paginate{\n",
       "display: inline-block; margin-right: 1em; }\n",
       ".paginate_button { margin-right: 5px; }\n",
       "</style>\n",
       "<script>\n",
       "\n",
       "var astropy_sort_num = function(a, b) {\n",
       "    var a_num = parseFloat(a);\n",
       "    var b_num = parseFloat(b);\n",
       "\n",
       "    if (isNaN(a_num) && isNaN(b_num))\n",
       "        return ((a < b) ? -1 : ((a > b) ? 1 : 0));\n",
       "    else if (!isNaN(a_num) && !isNaN(b_num))\n",
       "        return ((a_num < b_num) ? -1 : ((a_num > b_num) ? 1 : 0));\n",
       "    else\n",
       "        return isNaN(a_num) ? -1 : 1;\n",
       "}\n",
       "\n",
       "require.config({paths: {\n",
       "    datatables: 'https://cdn.datatables.net/1.10.12/js/jquery.dataTables.min'\n",
       "}});\n",
       "require([\"datatables\"], function(){\n",
       "    console.log(\"$('#table4752969456-399093').dataTable()\");\n",
       "    \n",
       "jQuery.extend( jQuery.fn.dataTableExt.oSort, {\n",
       "    \"optionalnum-asc\": astropy_sort_num,\n",
       "    \"optionalnum-desc\": function (a,b) { return -astropy_sort_num(a, b); }\n",
       "});\n",
       "\n",
       "    $('#table4752969456-399093').dataTable({\n",
       "        order: [],\n",
       "        pageLength: 11,\n",
       "        lengthMenu: [[11, 10, 25, 50, 100, 500, 1000, -1], [11, 10, 25, 50, 100, 500, 1000, 'All']],\n",
       "        pagingType: \"full_numbers\",\n",
       "        columnDefs: [{targets: [0, 2, 3, 4, 5, 6, 7, 8], type: \"optionalnum\"}]\n",
       "    });\n",
       "});\n",
       "</script>\n"
      ],
      "text/plain": [
       "<IPython.core.display.HTML object>"
      ]
     },
     "execution_count": 15,
     "metadata": {},
     "output_type": "execute_result"
    }
   ],
   "source": [
    "ticinfo = get_tic_info(ticid, radius_deg = size, cols=cols)\n",
    "ticinfo.show_in_notebook(display_length=nearest)\n"
   ]
  },
  {
   "cell_type": "code",
   "execution_count": 16,
   "metadata": {
    "extensions": {
     "jupyter_dashboards": {
      "version": 1,
      "views": {
       "grid_default": {},
       "report_default": {
        "hidden": false
       }
      }
     }
    }
   },
   "outputs": [
    {
     "data": {
      "image/png": "[encoded data removed]",
      "text/plain": [
       "<Figure size 432x432 with 1 Axes>"
      ]
     },
     "metadata": {
      "needs_background": "light"
     },
     "output_type": "display_data"
    }
   ],
   "source": [
    "image, wcs = overplot_ticffi(ticinfo, cutout_deg = size, nearest=nearest)"
   ]
  },
  {
   "cell_type": "code",
   "execution_count": 17,
   "metadata": {
    "extensions": {
     "jupyter_dashboards": {
      "version": 1,
      "views": {
       "grid_default": {},
       "report_default": {
        "hidden": false
       }
      }
     }
    }
   },
   "outputs": [
    {
     "name": "stderr",
     "output_type": "stream",
     "text": [
      "WARNING: NoResultsWarning: Query returned no results. [astroquery.mast.core]\n"
     ]
    },
    {
     "data": {
      "text/html": [
       "<i>QTable length=2</i>\n",
       "<table id=\"table4755089840-74932\" class=\"table-striped table-bordered table-condensed\">\n",
       "<thead><tr><th>idx</th><th>target_tic</th><th>sectors</th><th>GI_nums</th><th>obs_id</th><th>Exp_time_min</th><th>t_min</th><th>t_max</th></tr></thead>\n",
       "<tr><td>0</td><td>272489043</td><td>14</td><td>G022062</td><td>tess2019198215352-s0014-0000000272489043-0150-s</td><td>2</td><td>58682.84687433</td><td>58709.70380731</td></tr>\n",
       "<tr><td>1</td><td>272489043</td><td>15</td><td>G022062</td><td>tess2019226182529-s0015-0000000272489043-0151-s</td><td>2</td><td>58710.85797325</td><td>58736.9093508</td></tr>\n",
       "</table><style>table.dataTable {clear: both; width: auto !important; margin: 0 !important;}\n",
       ".dataTables_info, .dataTables_length, .dataTables_filter, .dataTables_paginate{\n",
       "display: inline-block; margin-right: 1em; }\n",
       ".paginate_button { margin-right: 5px; }\n",
       "</style>\n",
       "<script>\n",
       "\n",
       "var astropy_sort_num = function(a, b) {\n",
       "    var a_num = parseFloat(a);\n",
       "    var b_num = parseFloat(b);\n",
       "\n",
       "    if (isNaN(a_num) && isNaN(b_num))\n",
       "        return ((a < b) ? -1 : ((a > b) ? 1 : 0));\n",
       "    else if (!isNaN(a_num) && !isNaN(b_num))\n",
       "        return ((a_num < b_num) ? -1 : ((a_num > b_num) ? 1 : 0));\n",
       "    else\n",
       "        return isNaN(a_num) ? -1 : 1;\n",
       "}\n",
       "\n",
       "require.config({paths: {\n",
       "    datatables: 'https://cdn.datatables.net/1.10.12/js/jquery.dataTables.min'\n",
       "}});\n",
       "require([\"datatables\"], function(){\n",
       "    console.log(\"$('#table4755089840-74932').dataTable()\");\n",
       "    \n",
       "jQuery.extend( jQuery.fn.dataTableExt.oSort, {\n",
       "    \"optionalnum-asc\": astropy_sort_num,\n",
       "    \"optionalnum-desc\": function (a,b) { return -astropy_sort_num(a, b); }\n",
       "});\n",
       "\n",
       "    $('#table4755089840-74932').dataTable({\n",
       "        order: [],\n",
       "        pageLength: 50,\n",
       "        lengthMenu: [[10, 25, 50, 100, 500, 1000, -1], [10, 25, 50, 100, 500, 1000, 'All']],\n",
       "        pagingType: \"full_numbers\",\n",
       "        columnDefs: [{targets: [0, 2, 5, 6, 7], type: \"optionalnum\"}]\n",
       "    });\n",
       "});\n",
       "</script>\n"
      ],
      "text/plain": [
       "<IPython.core.display.HTML object>"
      ]
     },
     "execution_count": 17,
     "metadata": {},
     "output_type": "execute_result"
    }
   ],
   "source": [
    "ticlist = ticinfo['ID']\n",
    "obs_table, dv_table = get_twomin_obs(ticlist[0:3])\n",
    "obs_table.show_in_notebook()"
   ]
  },
  {
   "cell_type": "code",
   "execution_count": 18,
   "metadata": {
    "extensions": {
     "jupyter_dashboards": {
      "version": 1,
      "views": {
       "grid_default": {},
       "report_default": {
        "hidden": false
       }
      }
     }
    }
   },
   "outputs": [
    {
     "data": {
      "text/html": [
       "<i>QTable length=0</i>\n",
       "<table id=\"table4770767368-483822\" class=\"table-striped table-bordered table-condensed\">\n",
       "<thead><tr><th>idx</th><th>target_tic</th><th>sector_range</th><th>obs_id</th><th>Exp_time_min</th><th>t_min</th><th>t_max</th></tr></thead>\n",
       "</table><style>table.dataTable {clear: both; width: auto !important; margin: 0 !important;}\n",
       ".dataTables_info, .dataTables_length, .dataTables_filter, .dataTables_paginate{\n",
       "display: inline-block; margin-right: 1em; }\n",
       ".paginate_button { margin-right: 5px; }\n",
       "</style>\n",
       "<script>\n",
       "\n",
       "var astropy_sort_num = function(a, b) {\n",
       "    var a_num = parseFloat(a);\n",
       "    var b_num = parseFloat(b);\n",
       "\n",
       "    if (isNaN(a_num) && isNaN(b_num))\n",
       "        return ((a < b) ? -1 : ((a > b) ? 1 : 0));\n",
       "    else if (!isNaN(a_num) && !isNaN(b_num))\n",
       "        return ((a_num < b_num) ? -1 : ((a_num > b_num) ? 1 : 0));\n",
       "    else\n",
       "        return isNaN(a_num) ? -1 : 1;\n",
       "}\n",
       "\n",
       "require.config({paths: {\n",
       "    datatables: 'https://cdn.datatables.net/1.10.12/js/jquery.dataTables.min'\n",
       "}});\n",
       "require([\"datatables\"], function(){\n",
       "    console.log(\"$('#table4770767368-483822').dataTable()\");\n",
       "    \n",
       "jQuery.extend( jQuery.fn.dataTableExt.oSort, {\n",
       "    \"optionalnum-asc\": astropy_sort_num,\n",
       "    \"optionalnum-desc\": function (a,b) { return -astropy_sort_num(a, b); }\n",
       "});\n",
       "\n",
       "    $('#table4770767368-483822').dataTable({\n",
       "        order: [],\n",
       "        pageLength: 50,\n",
       "        lengthMenu: [[10, 25, 50, 100, 500, 1000, -1], [10, 25, 50, 100, 500, 1000, 'All']],\n",
       "        pagingType: \"full_numbers\",\n",
       "        columnDefs: [{targets: [0, 1, 2, 3, 4, 5, 6], type: \"optionalnum\"}]\n",
       "    });\n",
       "});\n",
       "</script>\n"
      ],
      "text/plain": [
       "<IPython.core.display.HTML object>"
      ]
     },
     "execution_count": 18,
     "metadata": {},
     "output_type": "execute_result"
    }
   ],
   "source": [
    "dv_table.show_in_notebook()"
   ]
  },
  {
   "cell_type": "code",
   "execution_count": null,
   "metadata": {
    "extensions": {
     "jupyter_dashboards": {
      "version": 1,
      "views": {
       "grid_default": {},
       "report_default": {
        "hidden": true
       }
      }
     }
    }
   },
   "outputs": [],
   "source": []
  }
 ],
 "metadata": {
  "extensions": {
   "jupyter_dashboards": {
    "activeView": "grid_default",
    "version": 1,
    "views": {
     "grid_default": {
      "cellMargin": 10,
      "defaultCellHeight": 20,
      "maxColumns": 12,
      "name": "grid",
      "type": "grid"
     },
     "report_default": {
      "name": "report",
      "type": "report"
     }
    }
   }
  },
  "kernelspec": {
   "display_name": "Python 3",
   "language": "python",
   "name": "python3"
  },
  "language_info": {
   "codemirror_mode": {
    "name": "ipython",
    "version": 3
   },
   "file_extension": ".py",
   "mimetype": "text/x-python",
   "name": "python",
   "nbconvert_exporter": "python",
   "pygments_lexer": "ipython3",
   "version": "3.7.3"
  }
 },
 "nbformat": 4,
 "nbformat_minor": 2
}
