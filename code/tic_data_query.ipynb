{
 "cells": [
  {
   "cell_type": "markdown",
   "metadata": {
    "extensions": {
     "jupyter_dashboards": {
      "version": 1,
      "views": {
       "grid_default": {},
       "report_default": {
        "hidden": false
       }
      }
     }
    }
   },
   "source": [
    "## Input Catalog and Scene Information\n",
    "\n",
    "Specify the TIC Id you desire to get TIC information and MAST data information.  Then hit run all. I recommend showing as a dashboard."
   ]
  },
  {
   "cell_type": "code",
   "execution_count": 8,
   "metadata": {
    "extensions": {
     "jupyter_dashboards": {
      "version": 1,
      "views": {
       "grid_default": {},
       "report_default": {
        "hidden": true
       }
      }
     }
    }
   },
   "outputs": [],
   "source": [
    "star_name=\"hat-p-11\"  #string TIC ID or string of full star name\n",
    "size=.11 #Cone Search size in degrees\n",
    "maglimit = 15  #Dimmest stars you want retrieved\n",
    "nearest=15  #Limit number of stars shown\n",
    "#Column names\n",
    "cols=['ID', 'Tmag', 'Jmag', 'Teff','logg','ra', 'dec','dstArcSec']"
   ]
  },
  {
   "cell_type": "markdown",
   "metadata": {},
   "source": [
    "----"
   ]
  },
  {
   "cell_type": "code",
   "execution_count": 9,
   "metadata": {},
   "outputs": [],
   "source": [
    "import tess_mast_query as tq"
   ]
  },
  {
   "cell_type": "markdown",
   "metadata": {},
   "source": [
    "### TESS Input Catalog Cone Search"
   ]
  },
  {
   "cell_type": "code",
   "execution_count": 10,
   "metadata": {
    "extensions": {
     "jupyter_dashboards": {
      "version": 1,
      "views": {
       "grid_default": {},
       "report_default": {
        "hidden": false
       }
      }
     }
    },
    "scrolled": true
   },
   "outputs": [
    {
     "data": {
      "text/html": [
       "<i>Table length=78</i>\n",
       "<table id=\"table4810917816-201454\" class=\"table-striped table-bordered table-condensed\">\n",
       "<thead><tr><th>idx</th><th>ID</th><th>Tmag</th><th>Jmag</th><th>Teff</th><th>logg</th><th>ra</th><th>dec</th><th>dstArcSec</th></tr></thead>\n",
       "<tr><td>0</td><td>28230919</td><td>8.5077</td><td>7.608</td><td>4777.56</td><td>4.5631</td><td>297.709364402628</td><td>48.0808603792123</td><td>3.607815935575038e-06</td></tr>\n",
       "<tr><td>1</td><td>1881918636</td><td>18.9336</td><td>nan</td><td>nan</td><td>nan</td><td>297.707142702312</td><td>48.0829554811124</td><td>9.243266115111794</td></tr>\n",
       "<tr><td>2</td><td>28230924</td><td>14.4609</td><td>13.592</td><td>5826.0</td><td>3.96658</td><td>297.710424618818</td><td>48.0838792939985</td><td>11.163206704403697</td></tr>\n",
       "<tr><td>3</td><td>28230906</td><td>12.1639</td><td>10.921</td><td>4349.0</td><td>nan</td><td>297.689816529734</td><td>48.0747453945307</td><td>51.915636360590405</td></tr>\n",
       "<tr><td>4</td><td>28230962</td><td>14.25</td><td>14.063</td><td>nan</td><td>nan</td><td>297.7143</td><td>48.098537</td><td>64.73315676933986</td></tr>\n",
       "<tr><td>5</td><td>28230896</td><td>14.1279</td><td>13.421</td><td>5671.0</td><td>4.47469</td><td>297.690769621972</td><td>48.0671587407976</td><td>66.58564566539737</td></tr>\n",
       "<tr><td>6</td><td>28230875</td><td>13.373</td><td>12.26</td><td>nan</td><td>nan</td><td>297.725154</td><td>48.059692</td><td>85.14755964034359</td></tr>\n",
       "<tr><td>7</td><td>10000766665</td><td>12.607</td><td>10.959</td><td>nan</td><td>nan</td><td>297.725006</td><td>48.059597</td><td>85.29614379064938</td></tr>\n",
       "<tr><td>8</td><td>28230947</td><td>11.649</td><td>10.981</td><td>5686.48</td><td>4.07388</td><td>297.742187229689</td><td>48.0934604425919</td><td>91.03763902043121</td></tr>\n",
       "<tr><td>9</td><td>28230880</td><td>13.4529</td><td>12.797</td><td>6174.2</td><td>4.24033</td><td>297.668759810979</td><td>48.0613993664351</td><td>120.20400763962387</td></tr>\n",
       "<tr><td>10</td><td>28230863</td><td>14.1222</td><td>13.407</td><td>5557.93</td><td>4.4177</td><td>297.677487704721</td><td>48.0536061720319</td><td>124.52883564720592</td></tr>\n",
       "<tr><td>11</td><td>28230991</td><td>13.3329</td><td>12.624</td><td>nan</td><td>nan</td><td>297.679198561737</td><td>48.1095872975369</td><td>126.31648679266708</td></tr>\n",
       "<tr><td>12</td><td>28230989</td><td>14.2887</td><td>13.714</td><td>6233.0</td><td>4.30146</td><td>297.746055207428</td><td>48.1088328505058</td><td>133.8789572254002</td></tr>\n",
       "<tr><td>13</td><td>28230994</td><td>12.7167</td><td>12.255</td><td>6699.0</td><td>4.26195</td><td>297.745890638627</td><td>48.1112296931009</td><td>140.2349119027573</td></tr>\n",
       "<tr><td>14</td><td>28231003</td><td>12.0757</td><td>11.014</td><td>4597.81</td><td>nan</td><td>297.668669138782</td><td>48.115039727591</td><td>157.20543970298675</td></tr>\n",
       "<tr><td>15</td><td>28231009</td><td>12.8901</td><td>12.248</td><td>6037.0</td><td>4.3452</td><td>297.753147648527</td><td>48.1168052500071</td><td>166.81029874275353</td></tr>\n",
       "<tr><td>16</td><td>28230883</td><td>14.3689</td><td>13.445</td><td>5212.0</td><td>nan</td><td>297.773198170403</td><td>48.062268860599</td><td>167.50621559982724</td></tr>\n",
       "<tr><td>17</td><td>28231013</td><td>13.5847</td><td>12.561</td><td>4685.0</td><td>nan</td><td>297.662818961558</td><td>48.1194472679377</td><td>178.3796140880424</td></tr>\n",
       "<tr><td>18</td><td>28230825</td><td>13.8084</td><td>12.891</td><td>5005.0</td><td>nan</td><td>297.668976805035</td><td>48.0369484174377</td><td>185.56316345919146</td></tr>\n",
       "<tr><td>19</td><td>28231040</td><td>11.8138</td><td>11.239</td><td>6287.2</td><td>4.3057</td><td>297.674422739403</td><td>48.1334914623414</td><td>207.2552647886149</td></tr>\n",
       "<tr><td>20</td><td>28230800</td><td>12.4096</td><td>11.729</td><td>5708.65</td><td>4.05064</td><td>297.748358606052</td><td>48.0260340405173</td><td>218.5446222116663</td></tr>\n",
       "<tr><td>21</td><td>28231002</td><td>13.1073</td><td>12.362</td><td>5219.0</td><td>4.49141</td><td>297.786939637836</td><td>48.1142436872014</td><td>221.88074737737531</td></tr>\n",
       "<tr><td>22</td><td>28231055</td><td>14.0854</td><td>13.432</td><td>6092.0</td><td>4.32488</td><td>297.739466324986</td><td>48.1395837554899</td><td>223.4439254974028</td></tr>\n",
       "<tr><td>23</td><td>1881919902</td><td>14.4209</td><td>nan</td><td>5810.0</td><td>4.22744</td><td>297.802756517824</td><td>48.0881940614757</td><td>226.1470002469983</td></tr>\n",
       "<tr><td>24</td><td>28230803</td><td>13.7109</td><td>13.038</td><td>5950.72</td><td>3.73227</td><td>297.757907561939</td><td>48.0269495881592</td><td>226.52068892588326</td></tr>\n",
       "<tr><td>25</td><td>28230933</td><td>13.692</td><td>13.537</td><td>nan</td><td>nan</td><td>297.802956</td><td>48.088173</td><td>226.6146907026012</td></tr>\n",
       "<tr><td>26</td><td>28231063</td><td>13.5018</td><td>12.744</td><td>5578.0</td><td>4.55277</td><td>297.72857413934</td><td>48.1435741465463</td><td>230.44271003570336</td></tr>\n",
       "<tr><td>27</td><td>28230860</td><td>13.5181</td><td>12.947</td><td>6436.09</td><td>3.573</td><td>297.79539640685</td><td>48.0517561516244</td><td>231.98240703082362</td></tr>\n",
       "<tr><td>28</td><td>28230831</td><td>14.0475</td><td>13.495</td><td>6293.0</td><td>4.18712</td><td>297.784664966951</td><td>48.0394133320425</td><td>234.71003778010132</td></tr>\n",
       "<tr><td>29</td><td>28231064</td><td>12.2418</td><td>11.213</td><td>4857.46</td><td>nan</td><td>297.7371443595</td><td>48.143920117875</td><td>236.63133478609026</td></tr>\n",
       "<tr><td>30</td><td>28230975</td><td>12.7332</td><td>12.089</td><td>nan</td><td>nan</td><td>297.802709426853</td><td>48.1030080441609</td><td>238.1956988690224</td></tr>\n",
       "<tr><td>31</td><td>28231045</td><td>14.3155</td><td>13.186</td><td>nan</td><td>nan</td><td>297.764931619121</td><td>48.1356705364696</td><td>238.27627905838133</td></tr>\n",
       "<tr><td>32</td><td>28231053</td><td>13.9655</td><td>13.153</td><td>5225.3</td><td>4.43111</td><td>297.75753595805</td><td>48.1391106547262</td><td>239.5457252681689</td></tr>\n",
       "<tr><td>33</td><td>28230799</td><td>13.3505</td><td>12.834</td><td>6675.62</td><td>4.26002</td><td>297.768087683879</td><td>48.0258445074198</td><td>243.3007484959161</td></tr>\n",
       "<tr><td>34</td><td>28230771</td><td>12.2702</td><td>11.456</td><td>5402.32</td><td>nan</td><td>297.709137163202</td><td>48.0129234953124</td><td>244.57339270138095</td></tr>\n",
       "<tr><td>35</td><td>28230217</td><td>14.4389</td><td>13.566</td><td>5083.0</td><td>nan</td><td>297.608049110801</td><td>48.088938565949</td><td>245.38284413868465</td></tr>\n",
       "<tr><td>36</td><td>28230770</td><td>14.0267</td><td>13.376</td><td>5983.0</td><td>3.77712</td><td>297.698090753147</td><td>48.0125538980794</td><td>247.3956385411792</td></tr>\n",
       "<tr><td>37</td><td>28230818</td><td>14.3408</td><td>13.658</td><td>5956.0</td><td>4.30911</td><td>297.62647824623</td><td>48.0360301365369</td><td>256.5559360652697</td></tr>\n",
       "<tr><td>38</td><td>28230132</td><td>13.6373</td><td>12.919</td><td>5647.0</td><td>3.81943</td><td>297.618258832119</td><td>48.1205090484476</td><td>261.4358602926663</td></tr>\n",
       "<tr><td>39</td><td>28230787</td><td>13.8777</td><td>12.923</td><td>4878.0</td><td>nan</td><td>297.770159615728</td><td>48.0205182163119</td><td>261.905419579559</td></tr>\n",
       "<tr><td>40</td><td>28230131</td><td>14.0038</td><td>13.345</td><td>6054.0</td><td>4.03959</td><td>297.611861057468</td><td>48.1212422283359</td><td>275.83143406156876</td></tr>\n",
       "<tr><td>41</td><td>28231036</td><td>13.1252</td><td>12.387</td><td>5694.69</td><td>3.89254</td><td>297.798189829979</td><td>48.130931128965</td><td>279.43965972036864</td></tr>\n",
       "<tr><td>42</td><td>28230143</td><td>12.7538</td><td>12.235</td><td>6487.0</td><td>4.02679</td><td>297.604741413345</td><td>48.1165009952896</td><td>282.3742463639701</td></tr>\n",
       "<tr><td>43</td><td>28230774</td><td>14.223</td><td>13.413</td><td>6261.7</td><td>4.39279</td><td>297.645385014123</td><td>48.0146687904343</td><td>283.70824263891774</td></tr>\n",
       "<tr><td>44</td><td>28230749</td><td>14.0505</td><td>13.376</td><td>5911.0</td><td>4.12423</td><td>297.698855961135</td><td>48.0012799698992</td><td>287.603840384582</td></tr>\n",
       "<tr><td>45</td><td>28230761</td><td>14.0488</td><td>13.102</td><td>5013.99</td><td>nan</td><td>297.656630841433</td><td>48.0068556858055</td><td>295.10456824482077</td></tr>\n",
       "<tr><td>46</td><td>28230746</td><td>13.6782</td><td>12.656</td><td>4775.0</td><td>nan</td><td>297.739327491628</td><td>48.0004157508776</td><td>298.44577339945005</td></tr>\n",
       "<tr><td>47</td><td>28231095</td><td>14.4994</td><td>13.704</td><td>5444.0</td><td>4.44679</td><td>297.649342412174</td><td>48.1539165083694</td><td>299.9663840477561</td></tr>\n",
       "<tr><td>48</td><td>28231107</td><td>14.285</td><td>13.415</td><td>nan</td><td>nan</td><td>297.665382</td><td>48.159697</td><td>302.85603237109456</td></tr>\n",
       "<tr><td>49</td><td>1881921694</td><td>14.4587</td><td>nan</td><td>5909.0</td><td>4.22947</td><td>297.665587668996</td><td>48.1597859119255</td><td>302.98399388465265</td></tr>\n",
       "<tr><td>50</td><td>28230210</td><td>14.1651</td><td>13.56</td><td>6200.0</td><td>4.10249</td><td>297.58069522336</td><td>48.0926196595805</td><td>312.30827105204963</td></tr>\n",
       "<tr><td>51</td><td>28231111</td><td>13.677</td><td>12.676</td><td>4926.0</td><td>nan</td><td>297.659094498037</td><td>48.1610359698305</td><td>312.8952368846833</td></tr>\n",
       "<tr><td>52</td><td>28358422</td><td>11.9059</td><td>10.752</td><td>4377.39</td><td>nan</td><td>297.844954750683</td><td>48.0832820215816</td><td>326.21607950723865</td></tr>\n",
       "<tr><td>53</td><td>28230249</td><td>13.1147</td><td>12.277</td><td>5068.0</td><td>4.60319</td><td>297.574513332192</td><td>48.0711723341118</td><td>326.2294374160118</td></tr>\n",
       "<tr><td>54</td><td>28231143</td><td>11.0124</td><td>10.585</td><td>7234.98</td><td>3.74073</td><td>297.696742332319</td><td>48.171475079294</td><td>327.61991357013295</td></tr>\n",
       "<tr><td>55</td><td>28230134</td><td>13.1987</td><td>12.669</td><td>6511.69</td><td>3.81713</td><td>297.582964988007</td><td>48.1200485396678</td><td>335.0369390070071</td></tr>\n",
       "<tr><td>56</td><td>28230231</td><td>14.452</td><td>13.835</td><td>6053.0</td><td>4.10743</td><td>297.569686928986</td><td>48.0830847364938</td><td>336.02531152799645</td></tr>\n",
       "<tr><td>57</td><td>28230078</td><td>13.8807</td><td>13.203</td><td>5812.33</td><td>4.20997</td><td>297.606336471886</td><td>48.1440613300121</td><td>336.29176163481554</td></tr>\n",
       "<tr><td>58</td><td>28230290</td><td>10.6387</td><td>9.588</td><td>4536.49</td><td>nan</td><td>297.574833673417</td><td>48.0498869664321</td><td>342.32513462704475</td></tr>\n",
       "<tr><td>59</td><td>28230192</td><td>14.0332</td><td>13.376</td><td>5937.0</td><td>4.50696</td><td>297.569147232712</td><td>48.1012797346088</td><td>345.08851512622994</td></tr>\n",
       "<tr><td>60</td><td>28230075</td><td>14.4858</td><td>13.848</td><td>6255.0</td><td>4.03657</td><td>297.601542015751</td><td>48.144625616612</td><td>346.2085175236081</td></tr>\n",
       "<tr><td>61</td><td>28230282</td><td>12.2352</td><td>11.702</td><td>6260.0</td><td>4.33568</td><td>297.570429356891</td><td>48.0551770532987</td><td>346.78788396507804</td></tr>\n",
       "<tr><td>62</td><td>28358696</td><td>11.6121</td><td>10.066</td><td>3818.13</td><td>nan</td><td>297.821566578757</td><td>48.019947215897</td><td>347.8443883974422</td></tr>\n",
       "<tr><td>63</td><td>28230724</td><td>14.4363</td><td>13.752</td><td>5699.0</td><td>4.52764</td><td>297.647626890541</td><td>47.9933372112058</td><td>348.3714424211514</td></tr>\n",
       "<tr><td>64</td><td>28358325</td><td>11.1554</td><td>10.675</td><td>6660.0</td><td>4.2064</td><td>297.850357071859</td><td>48.1038114674762</td><td>348.94760424510787</td></tr>\n",
       "<tr><td>65</td><td>28358139</td><td>13.0311</td><td>12.408</td><td>5975.94</td><td>3.82359</td><td>297.824443620119</td><td>48.1433468598214</td><td>356.53194986960875</td></tr>\n",
       "<tr><td>66</td><td>28230366</td><td>14.4779</td><td>13.842</td><td>5970.0</td><td>3.90347</td><td>297.592677440875</td><td>48.0192625176003</td><td>357.81109345729305</td></tr>\n",
       "<tr><td>67</td><td>28230733</td><td>14.4749</td><td>13.778</td><td>5773.0</td><td>4.4667</td><td>297.63311960906</td><td>47.9951045420043</td><td>359.15366924659725</td></tr>\n",
       "<tr><td>68</td><td>28230310</td><td>12.16</td><td>11.686</td><td>6555.0</td><td>4.22247</td><td>297.57120476659</td><td>48.0408598982595</td><td>362.2660979232031</td></tr>\n",
       "<tr><td>69</td><td>28231140</td><td>13.1559</td><td>12.085</td><td>4773.0</td><td>nan</td><td>297.636433292377</td><td>48.1704844992095</td><td>367.17111366827606</td></tr>\n",
       "<tr><td>70</td><td>28231158</td><td>11.3552</td><td>10.258</td><td>4636.23</td><td>nan</td><td>297.654461849984</td><td>48.1764002809434</td><td>368.3760292168488</td></tr>\n",
       "<tr><td>71</td><td>28358428</td><td>12.0303</td><td>11.341</td><td>5397.72</td><td>4.41796</td><td>297.863969202445</td><td>48.0817243495347</td><td>371.848618339371</td></tr>\n",
       "<tr><td>72</td><td>28230690</td><td>14.171</td><td>13.497</td><td>5978.0</td><td>3.76393</td><td>297.739578328771</td><td>47.979178238597</td><td>373.21273419876195</td></tr>\n",
       "<tr><td>73</td><td>28230691</td><td>13.5287</td><td>12.502</td><td>4660.0</td><td>nan</td><td>297.673121488094</td><td>47.979658995633</td><td>374.62756394525053</td></tr>\n",
       "<tr><td>74</td><td>28231134</td><td>13.4102</td><td>12.845</td><td>6569.0</td><td>3.95283</td><td>297.796824815888</td><td>48.1673277471193</td><td>375.59242908169057</td></tr>\n",
       "<tr><td>75</td><td>28231184</td><td>14.2446</td><td>13.665</td><td>6491.0</td><td>4.23774</td><td>297.740446889705</td><td>48.184353863855</td><td>379.9875392336655</td></tr>\n",
       "<tr><td>76</td><td>28358233</td><td>14.4383</td><td>13.724</td><td>nan</td><td>nan</td><td>297.857539310098</td><td>48.1222701244076</td><td>386.16542678642435</td></tr>\n",
       "<tr><td>77</td><td>28231142</td><td>14.4965</td><td>13.236</td><td>4339.0</td><td>nan</td><td>297.800014704417</td><td>48.1712813597796</td><td>391.6765301322872</td></tr>\n",
       "</table><style>table.dataTable {clear: both; width: auto !important; margin: 0 !important;}\n",
       ".dataTables_info, .dataTables_length, .dataTables_filter, .dataTables_paginate{\n",
       "display: inline-block; margin-right: 1em; }\n",
       ".paginate_button { margin-right: 5px; }\n",
       "</style>\n",
       "<script>\n",
       "\n",
       "var astropy_sort_num = function(a, b) {\n",
       "    var a_num = parseFloat(a);\n",
       "    var b_num = parseFloat(b);\n",
       "\n",
       "    if (isNaN(a_num) && isNaN(b_num))\n",
       "        return ((a < b) ? -1 : ((a > b) ? 1 : 0));\n",
       "    else if (!isNaN(a_num) && !isNaN(b_num))\n",
       "        return ((a_num < b_num) ? -1 : ((a_num > b_num) ? 1 : 0));\n",
       "    else\n",
       "        return isNaN(a_num) ? -1 : 1;\n",
       "}\n",
       "\n",
       "require.config({paths: {\n",
       "    datatables: 'https://cdn.datatables.net/1.10.12/js/jquery.dataTables.min'\n",
       "}});\n",
       "require([\"datatables\"], function(){\n",
       "    console.log(\"$('#table4810917816-201454').dataTable()\");\n",
       "    \n",
       "jQuery.extend( jQuery.fn.dataTableExt.oSort, {\n",
       "    \"optionalnum-asc\": astropy_sort_num,\n",
       "    \"optionalnum-desc\": function (a,b) { return -astropy_sort_num(a, b); }\n",
       "});\n",
       "\n",
       "    $('#table4810917816-201454').dataTable({\n",
       "        order: [],\n",
       "        pageLength: 15,\n",
       "        lengthMenu: [[15, 10, 25, 50, 100, 500, 1000, -1], [15, 10, 25, 50, 100, 500, 1000, 'All']],\n",
       "        pagingType: \"full_numbers\",\n",
       "        columnDefs: [{targets: [0, 2, 3, 4, 5, 6, 7, 8], type: \"optionalnum\"}]\n",
       "    });\n",
       "});\n",
       "</script>\n"
      ],
      "text/plain": [
       "<IPython.core.display.HTML object>"
      ]
     },
     "execution_count": 10,
     "metadata": {},
     "output_type": "execute_result"
    }
   ],
   "source": [
    "ticinfo = tq.get_tic_info(star_name, radius_deg = size, cols=cols)\n",
    "ticinfo.show_in_notebook(display_length=nearest)"
   ]
  },
  {
   "cell_type": "markdown",
   "metadata": {},
   "source": [
    "### TESS Image near the Selected Star"
   ]
  },
  {
   "cell_type": "code",
   "execution_count": 11,
   "metadata": {
    "extensions": {
     "jupyter_dashboards": {
      "version": 1,
      "views": {
       "grid_default": {},
       "report_default": {
        "hidden": false
       }
      }
     }
    }
   },
   "outputs": [
    {
     "data": {
      "image/png": "[encoded data removed]",
      "text/plain": [
       "<Figure size 432x432 with 1 Axes>"
      ]
     },
     "metadata": {
      "needs_background": "light"
     },
     "output_type": "display_data"
    }
   ],
   "source": [
    "image, wcs = tq.overplot_ticffi(ticinfo, cutout_deg = size, nearest=nearest)"
   ]
  },
  {
   "cell_type": "markdown",
   "metadata": {},
   "source": [
    "## Lightcurve data at MAST"
   ]
  },
  {
   "cell_type": "code",
   "execution_count": 12,
   "metadata": {
    "extensions": {
     "jupyter_dashboards": {
      "version": 1,
      "views": {
       "grid_default": {},
       "report_default": {
        "hidden": false
       }
      }
     }
    }
   },
   "outputs": [
    {
     "name": "stderr",
     "output_type": "stream",
     "text": [
      "WARNING: NoResultsWarning: Query returned no results. [astroquery.mast.core]\n"
     ]
    },
    {
     "data": {
      "text/html": [
       "<i>QTable length=2</i>\n",
       "<table id=\"table4779709944-233293\" class=\"table-striped table-bordered table-condensed\">\n",
       "<thead><tr><th>idx</th><th>target_tic</th><th>sectors</th><th>GI_nums</th><th>obs_id</th><th>Exp_time_min</th><th>t_min</th><th>t_max</th></tr></thead>\n",
       "<tr><td>0</td><td>28230919</td><td>14</td><td>G022062_G022200_G022053</td><td>tess2019198215352-s0014-0000000028230919-0150-s</td><td>2</td><td>58682.84687433</td><td>58709.70380731</td></tr>\n",
       "<tr><td>1</td><td>28230919</td><td>15</td><td>G022062_G022200_G022053</td><td>tess2019226182529-s0015-0000000028230919-0151-s</td><td>2</td><td>58710.85797325</td><td>58736.9093508</td></tr>\n",
       "</table><style>table.dataTable {clear: both; width: auto !important; margin: 0 !important;}\n",
       ".dataTables_info, .dataTables_length, .dataTables_filter, .dataTables_paginate{\n",
       "display: inline-block; margin-right: 1em; }\n",
       ".paginate_button { margin-right: 5px; }\n",
       "</style>\n",
       "<script>\n",
       "\n",
       "var astropy_sort_num = function(a, b) {\n",
       "    var a_num = parseFloat(a);\n",
       "    var b_num = parseFloat(b);\n",
       "\n",
       "    if (isNaN(a_num) && isNaN(b_num))\n",
       "        return ((a < b) ? -1 : ((a > b) ? 1 : 0));\n",
       "    else if (!isNaN(a_num) && !isNaN(b_num))\n",
       "        return ((a_num < b_num) ? -1 : ((a_num > b_num) ? 1 : 0));\n",
       "    else\n",
       "        return isNaN(a_num) ? -1 : 1;\n",
       "}\n",
       "\n",
       "require.config({paths: {\n",
       "    datatables: 'https://cdn.datatables.net/1.10.12/js/jquery.dataTables.min'\n",
       "}});\n",
       "require([\"datatables\"], function(){\n",
       "    console.log(\"$('#table4779709944-233293').dataTable()\");\n",
       "    \n",
       "jQuery.extend( jQuery.fn.dataTableExt.oSort, {\n",
       "    \"optionalnum-asc\": astropy_sort_num,\n",
       "    \"optionalnum-desc\": function (a,b) { return -astropy_sort_num(a, b); }\n",
       "});\n",
       "\n",
       "    $('#table4779709944-233293').dataTable({\n",
       "        order: [],\n",
       "        pageLength: 50,\n",
       "        lengthMenu: [[10, 25, 50, 100, 500, 1000, -1], [10, 25, 50, 100, 500, 1000, 'All']],\n",
       "        pagingType: \"full_numbers\",\n",
       "        columnDefs: [{targets: [0, 2, 5, 6, 7], type: \"optionalnum\"}]\n",
       "    });\n",
       "});\n",
       "</script>\n"
      ],
      "text/plain": [
       "<IPython.core.display.HTML object>"
      ]
     },
     "execution_count": 12,
     "metadata": {},
     "output_type": "execute_result"
    }
   ],
   "source": [
    "ticlist = ticinfo['ID']\n",
    "obs_table, dv_table = tq.get_twomin_obs(ticlist[0:3])\n",
    "obs_table.show_in_notebook()"
   ]
  },
  {
   "cell_type": "markdown",
   "metadata": {},
   "source": [
    "### TESS Planet Search Results Available at MAST"
   ]
  },
  {
   "cell_type": "code",
   "execution_count": 13,
   "metadata": {
    "extensions": {
     "jupyter_dashboards": {
      "version": 1,
      "views": {
       "grid_default": {},
       "report_default": {
        "hidden": false
       }
      }
     }
    }
   },
   "outputs": [
    {
     "data": {
      "text/html": [
       "<i>QTable length=1</i>\n",
       "<table id=\"table4663928592-265987\" class=\"table-striped table-bordered table-condensed\">\n",
       "<thead><tr><th>idx</th><th>target_tic</th><th>sector_range</th><th>obs_id</th><th>Exp_time_min</th><th>t_min</th><th>t_max</th></tr></thead>\n",
       "<tr><td>0</td><td>28230919</td><td>s0014-s0016</td><td>tess2019199201929-s0014-s0016-0000000028230919-00253</td><td>2</td><td>58682.84897424</td><td>58736.91142463</td></tr>\n",
       "</table><style>table.dataTable {clear: both; width: auto !important; margin: 0 !important;}\n",
       ".dataTables_info, .dataTables_length, .dataTables_filter, .dataTables_paginate{\n",
       "display: inline-block; margin-right: 1em; }\n",
       ".paginate_button { margin-right: 5px; }\n",
       "</style>\n",
       "<script>\n",
       "\n",
       "var astropy_sort_num = function(a, b) {\n",
       "    var a_num = parseFloat(a);\n",
       "    var b_num = parseFloat(b);\n",
       "\n",
       "    if (isNaN(a_num) && isNaN(b_num))\n",
       "        return ((a < b) ? -1 : ((a > b) ? 1 : 0));\n",
       "    else if (!isNaN(a_num) && !isNaN(b_num))\n",
       "        return ((a_num < b_num) ? -1 : ((a_num > b_num) ? 1 : 0));\n",
       "    else\n",
       "        return isNaN(a_num) ? -1 : 1;\n",
       "}\n",
       "\n",
       "require.config({paths: {\n",
       "    datatables: 'https://cdn.datatables.net/1.10.12/js/jquery.dataTables.min'\n",
       "}});\n",
       "require([\"datatables\"], function(){\n",
       "    console.log(\"$('#table4663928592-265987').dataTable()\");\n",
       "    \n",
       "jQuery.extend( jQuery.fn.dataTableExt.oSort, {\n",
       "    \"optionalnum-asc\": astropy_sort_num,\n",
       "    \"optionalnum-desc\": function (a,b) { return -astropy_sort_num(a, b); }\n",
       "});\n",
       "\n",
       "    $('#table4663928592-265987').dataTable({\n",
       "        order: [],\n",
       "        pageLength: 50,\n",
       "        lengthMenu: [[10, 25, 50, 100, 500, 1000, -1], [10, 25, 50, 100, 500, 1000, 'All']],\n",
       "        pagingType: \"full_numbers\",\n",
       "        columnDefs: [{targets: [0, 4, 5, 6], type: \"optionalnum\"}]\n",
       "    });\n",
       "});\n",
       "</script>\n"
      ],
      "text/plain": [
       "<IPython.core.display.HTML object>"
      ]
     },
     "execution_count": 13,
     "metadata": {},
     "output_type": "execute_result"
    }
   ],
   "source": [
    "dv_table.show_in_notebook()"
   ]
  },
  {
   "cell_type": "code",
   "execution_count": 14,
   "metadata": {},
   "outputs": [
    {
     "ename": "NameError",
     "evalue": "name 'ticid' is not defined",
     "output_type": "error",
     "traceback": [
      "\u001b[0;31m---------------------------------------------------------------------------\u001b[0m",
      "\u001b[0;31mNameError\u001b[0m                                 Traceback (most recent call last)",
      "\u001b[0;32m<ipython-input-14-28c618ed0901>\u001b[0m in \u001b[0;36m<module>\u001b[0;34m()\u001b[0m\n\u001b[0;32m----> 1\u001b[0;31m \u001b[0mfloat\u001b[0m\u001b[0;34m(\u001b[0m\u001b[0mticid\u001b[0m\u001b[0;34m)\u001b[0m\u001b[0;34m\u001b[0m\u001b[0;34m\u001b[0m\u001b[0m\n\u001b[0m",
      "\u001b[0;31mNameError\u001b[0m: name 'ticid' is not defined"
     ]
    }
   ],
   "source": []
  },
  {
   "cell_type": "code",
   "execution_count": null,
   "metadata": {},
   "outputs": [],
   "source": []
  }
 ],
 "metadata": {
  "extensions": {
   "jupyter_dashboards": {
    "activeView": "grid_default",
    "version": 1,
    "views": {
     "grid_default": {
      "cellMargin": 10,
      "defaultCellHeight": 20,
      "maxColumns": 12,
      "name": "grid",
      "type": "grid"
     },
     "report_default": {
      "name": "report",
      "type": "report"
     }
    }
   }
  },
  "kernelspec": {
   "display_name": "Python 3",
   "language": "python",
   "name": "python3"
  },
  "language_info": {
   "codemirror_mode": {
    "name": "ipython",
    "version": 3
   },
   "file_extension": ".py",
   "mimetype": "text/x-python",
   "name": "python",
   "nbconvert_exporter": "python",
   "pygments_lexer": "ipython3",
   "version": "3.7.3"
  }
 },
 "nbformat": 4,
 "nbformat_minor": 4
}
